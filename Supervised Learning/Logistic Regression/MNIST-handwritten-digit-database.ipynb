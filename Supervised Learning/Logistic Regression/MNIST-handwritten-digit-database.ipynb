{
  "cells": [
    {
      "cell_type": "markdown",
      "source": [
        "# Logistic Regression "
      ],
      "metadata": {
        "id": "dackUYXbWbSP"
      }
    },
    {
      "cell_type": "markdown",
      "source": [
        "We will use the MNIST Handwritten digit database in the sci-kit learn library to predict Handwritten digit."
      ],
      "metadata": {
        "id": "JZBOP1JWm0Me"
      }
    },
    {
      "cell_type": "code",
      "execution_count": 99,
      "metadata": {
        "id": "TF9tno1NMvlX"
      },
      "outputs": [],
      "source": [
        "#load libraries\n",
        "import numpy as np\n",
        "import matplotlib.pyplot as plt\n",
        "import seaborn as sns\n",
        "\n",
        "from  sklearn.model_selection import train_test_split\n",
        "from sklearn.linear_model import LogisticRegression\n",
        "from sklearn import metrics"
      ]
    },
    {
      "cell_type": "code",
      "execution_count": 100,
      "metadata": {
        "id": "EcqaHWvyMgK0"
      },
      "outputs": [],
      "source": [
        "from sklearn.datasets import load_digits\n",
        "digits = load_digits()\n",
        "X = digits.data\n",
        "y = digits.target"
      ]
    },
    {
      "cell_type": "code",
      "execution_count": 101,
      "metadata": {
        "colab": {
          "base_uri": "https://localhost:8080/"
        },
        "id": "BtzTLL7JOTQQ",
        "outputId": "4a2682e1-7b69-4e3a-e44d-e29c6e68660e"
      },
      "outputs": [
        {
          "output_type": "stream",
          "name": "stdout",
          "text": [
            "Image Data Shape (1797, 64)\n",
            "Target Data Shape (1797,)\n"
          ]
        }
      ],
      "source": [
        "# Print to show there are 1797 images (8 by 8 images for a dimensionality of 64)\n",
        "print(\"Image Data Shape\" , X.shape)\n",
        "# Print to show there are 1797 labels (integers from 0–9)\n",
        "print(\"Target Data Shape\", y.shape)"
      ]
    },
    {
      "cell_type": "markdown",
      "source": [
        "### Visualizing the Images and targets in our Dataset"
      ],
      "metadata": {
        "id": "aFwzwqwKWNtg"
      }
    },
    {
      "cell_type": "code",
      "source": [
        "plt.figure(figsize=(20,4))\n",
        "for index, (image, label) in enumerate(zip(digits.data[0:10], digits.target[0:10])):\n",
        "  plt.subplot(1, 10, index + 1)\n",
        "  plt.imshow(np.reshape(image, (8,8)), cmap=plt.cm.gray)\n",
        "  plt.title('Training: %i\\n' % label, fontsize = 15)"
      ],
      "metadata": {
        "colab": {
          "base_uri": "https://localhost:8080/",
          "height": 178
        },
        "id": "TyhUiohTUxov",
        "outputId": "320a22de-220b-437c-d491-2654d166551d"
      },
      "execution_count": 102,
      "outputs": [
        {
          "output_type": "display_data",
          "data": {
            "text/plain": [
              "<Figure size 1440x288 with 10 Axes>"
            ],
            "image/png": "[encoded data removed]"
          },
          "metadata": {
            "needs_background": "light"
          }
        }
      ]
    },
    {
      "cell_type": "markdown",
      "source": [
        "## Split the Data"
      ],
      "metadata": {
        "id": "AotT_KNGUgnO"
      }
    },
    {
      "cell_type": "code",
      "source": [
        "X_train, X_test, y_train, y_test = train_test_split(X,y, random_state=0)"
      ],
      "metadata": {
        "id": "_Yy8B0t3QHPz"
      },
      "execution_count": 103,
      "outputs": []
    },
    {
      "cell_type": "markdown",
      "source": [
        "### Instantiate Logistic Regression"
      ],
      "metadata": {
        "id": "K26htIg7XqUf"
      }
    },
    {
      "cell_type": "code",
      "source": [
        "LR_model = LogisticRegression(C=1.0, class_weight=None, dual=False, fit_intercept=True,\n",
        "          intercept_scaling=1, max_iter=150, multi_class='ovr', n_jobs=1,\n",
        "          penalty='l2', random_state=None, solver='liblinear', tol=0.0001,\n",
        "          verbose=0, warm_start=False)"
      ],
      "metadata": {
        "id": "sJAydZKkXO4s"
      },
      "execution_count": 104,
      "outputs": []
    },
    {
      "cell_type": "code",
      "source": [
        "# fit the model\n",
        "LR_model.fit(X_train,y_train)"
      ],
      "metadata": {
        "colab": {
          "base_uri": "https://localhost:8080/"
        },
        "id": "0h0DUWZiYugr",
        "outputId": "3d62ca01-8dc1-4d2a-8590-5d5288eb9698"
      },
      "execution_count": 105,
      "outputs": [
        {
          "output_type": "execute_result",
          "data": {
            "text/plain": [
              "LogisticRegression(max_iter=150, multi_class='ovr', n_jobs=1,\n",
              "                   solver='liblinear')"
            ]
          },
          "metadata": {},
          "execution_count": 105
        }
      ]
    },
    {
      "cell_type": "markdown",
      "source": [
        "### Prediction"
      ],
      "metadata": {
        "id": "_F9fK9mKZhyi"
      }
    },
    {
      "cell_type": "code",
      "source": [
        "# Predict labels for all test data\n",
        "y_pred = LR_model.predict(X_test)\n",
        "y_pred= y_pred.reshape(-1,1)"
      ],
      "metadata": {
        "id": "3zw8F81UZWU-"
      },
      "execution_count": 97,
      "outputs": []
    },
    {
      "cell_type": "markdown",
      "source": [
        "### Model Performance "
      ],
      "metadata": {
        "id": "rDaumgYebxlz"
      }
    },
    {
      "cell_type": "markdown",
      "source": [
        "The model performance based on number of correct predictions / total number of data points. \n"
      ],
      "metadata": {
        "id": "I04BSMAZuERI"
      }
    },
    {
      "cell_type": "code",
      "source": [
        "score = LR_model.score(X_test, y_test)\n",
        "print(score)"
      ],
      "metadata": {
        "colab": {
          "base_uri": "https://localhost:8080/"
        },
        "id": "cz5OqwqUaejU",
        "outputId": "adb65cf7-4e28-4699-87ef-48843c12f660"
      },
      "execution_count": 98,
      "outputs": [
        {
          "output_type": "stream",
          "name": "stdout",
          "text": [
            "0.9533333333333334\n"
          ]
        }
      ]
    },
    {
      "cell_type": "markdown",
      "source": [
        "### Confusion Matrix"
      ],
      "metadata": {
        "id": "ryyI8JzNZOhB"
      }
    },
    {
      "cell_type": "markdown",
      "source": [
        "A confusion matrix visualizes and summarizes the performance of a classification algorithm."
      ],
      "metadata": {
        "id": "iqwqPdDluBa3"
      }
    },
    {
      "cell_type": "code",
      "source": [
        "cm = metrics.confusion_matrix(y_test, y_pred)"
      ],
      "metadata": {
        "id": "S2HOiMwhcbhc"
      },
      "execution_count": 95,
      "outputs": []
    },
    {
      "cell_type": "code",
      "source": [
        "plt.figure(figsize=(9,9))\n",
        "sns.heatmap(cm, annot=True, fmt=\".1f\", linewidths=.9, square = True, cmap = 'Greens_r');\n",
        "plt.ylabel('Actual label');\n",
        "plt.xlabel('Predicted label');\n",
        "all_sample_title = 'Accuracy Score: {0:.2f}'.format(score)\n",
        "plt.title(all_sample_title, size = 15);"
      ],
      "metadata": {
        "colab": {
          "base_uri": "https://localhost:8080/",
          "height": 526
        },
        "id": "i7EngU7Nc3lC",
        "outputId": "febed6c5-e158-4020-ff99-2cfb5daa39fc"
      },
      "execution_count": 96,
      "outputs": [
        {
          "output_type": "display_data",
          "data": {
            "text/plain": [
              "<Figure size 648x648 with 2 Axes>"
            ],
            "image/png": "[encoded data removed]"
          },
          "metadata": {
            "needs_background": "light"
          }
        }
      ]
    },
    {
      "cell_type": "markdown",
      "source": [
        "### Display Mispredicted Targets"
      ],
      "metadata": {
        "id": "LgpyMKYOblL2"
      }
    },
    {
      "cell_type": "code",
      "source": [
        "#mispred=[]\n",
        "#actual_lst =[]\n",
        "#for actual,pred in zip(y_test,y_pred):\n",
        "#  if actual != pred:\n",
        "#    mispred.append(pred)\n",
        "#    actual_lst.append(actual)\n"
      ],
      "metadata": {
        "id": "0tay_xsbZ4BS"
      },
      "execution_count": 27,
      "outputs": []
    },
    {
      "cell_type": "code",
      "source": [
        "\n",
        "#plt.figure(figsize=(20,4))\n",
        "#for plotIndex, (wrong,only) in enumerate(zip(mispred[0:5],actual_lst[0:5])):\n",
        "#    print(wrong)\n",
        "#    plt.subplot(1, 5, plotIndex + 1)\n",
        "#    plt.imshow(np.reshape(X_test.find(wrong[0]), (8,8)), cmap=plt.cm.gray)\n",
        "#    plt.title('Predicted: {}, Actual: {}'.format(wrong[0], only), fontsize = 10)"
      ],
      "metadata": {
        "id": "CWGJGTg4dE0S"
      },
      "execution_count": 57,
      "outputs": []
    },
    {
      "cell_type": "code",
      "source": [
        "index = 0\n",
        "misclassifiedIndex = []\n",
        "for predict, actual in zip(y_pred, y_test):\n",
        "    if predict != actual: \n",
        "        misclassifiedIndex.append(index)\n",
        "    index +=1"
      ],
      "metadata": {
        "id": "_OjLxayChsOQ"
      },
      "execution_count": 106,
      "outputs": []
    },
    {
      "cell_type": "code",
      "source": [
        "plt.figure(figsize=(20,4))\n",
        "for plotIndex, wrong in enumerate(misclassifiedIndex[-7:]):\n",
        "  plt.subplot(1, 8, plotIndex + 1)\n",
        "  plt.imshow(np.reshape(X_test[wrong], (8,8)), cmap=plt.cm.gray)\n",
        "  plt.title('Predicted: {}, Actual: {}'.format(y_pred[wrong][0], y_test[wrong]), fontsize = 12)"
      ],
      "metadata": {
        "colab": {
          "base_uri": "https://localhost:8080/",
          "height": 183
        },
        "id": "JKhuarGjj4WX",
        "outputId": "aff24c29-ab67-4caf-b2bf-52e3fa57a72d"
      },
      "execution_count": 107,
      "outputs": [
        {
          "output_type": "display_data",
          "data": {
            "text/plain": [
              "<Figure size 1440x288 with 7 Axes>"
            ],
            "image/png": "[encoded data removed]"
          },
          "metadata": {
            "needs_background": "light"
          }
        }
      ]
    },
    {
      "cell_type": "markdown",
      "source": [],
      "metadata": {
        "id": "oxucl38N_chj"
      }
    },
    {
      "cell_type": "markdown",
      "source": [
        "The dataset contains 1797 examples handwritten data. A score of 95% is a good score."
      ],
      "metadata": {
        "id": "GMS5UMAm_whg"
      }
    },
    {
      "cell_type": "code",
      "source": [],
      "metadata": {
        "id": "L4vnQt8__uXL"
      },
      "execution_count": null,
      "outputs": []
    }
  ],
  "metadata": {
    "colab": {
      "provenance": []
    },
    "kernelspec": {
      "display_name": "Python 3",
      "name": "python3"
    },
    "language_info": {
      "name": "python"
    }
  },
  "nbformat": 4,
  "nbformat_minor": 0
}
