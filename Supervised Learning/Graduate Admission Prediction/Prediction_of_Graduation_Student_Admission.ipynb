{
  "nbformat": 4,
  "nbformat_minor": 0,
  "metadata": {
    "colab": {
      "provenance": []
    },
    "kernelspec": {
      "name": "python3",
      "display_name": "Python 3"
    },
    "language_info": {
      "name": "python"
    }
  },
  "cells": [
    {
      "cell_type": "markdown",
      "source": [
        "# Prediction of Graduation Student Admission Status\n",
        "\n",
        "**Goal**: Build multiple logistic regression model that predicts admission status of students to university.  \n",
        "Data: [kaggle](https://www.kaggle.com/datasets/rosiellenpassos/student-admission-data)\n",
        "\n",
        "**Objective** : \n",
        "\n",
        "*   Importance of Normalization method based on understanding of the data/application\n",
        "*   Applying Principal component analysis\n",
        "*   Comparison of multiple models \n",
        "*   Build a simplified logistic regression pipeline function in python (Normalize & Reduce(if needed) & fit) [view here](https://github.com/oanokyen/custom-funcs/blob/main/logisticregression_with_pca_reduction_possibility.py) \n",
        "\n",
        "\n",
        "**Results & Discussion**\n",
        "*   Why the results and significance"
      ],
      "metadata": {
        "id": "XCxDQDI9yWWs"
      }
    },
    {
      "cell_type": "markdown",
      "source": [
        "## Load Libraries"
      ],
      "metadata": {
        "id": "mCjx35I0zd2h"
      }
    },
    {
      "cell_type": "code",
      "execution_count": 1,
      "metadata": {
        "id": "QcuGda4byVC7"
      },
      "outputs": [],
      "source": [
        "import numpy as np\n",
        "import matplotlib.pyplot as plt\n",
        "import pandas as pd\n",
        "\n",
        "\n",
        "%matplotlib inline"
      ]
    },
    {
      "cell_type": "markdown",
      "source": [
        "## Load Data & Preview"
      ],
      "metadata": {
        "id": "X0fzW3Zw4xVA"
      }
    },
    {
      "cell_type": "code",
      "source": [
        "student_df = pd.read_csv('https://raw.githubusercontent.com/oanokyen/ML_steps/main/Supervised%20Learning/Graduate%20Admission%20Prediction/StudentData.csv')\n",
        "student_df.head(10)"
      ],
      "metadata": {
        "colab": {
          "base_uri": "https://localhost:8080/",
          "height": 363
        },
        "id": "syugL3Is03tl",
        "outputId": "38fb4005-b0af-4008-abe2-350bbeb727e2"
      },
      "execution_count": 2,
      "outputs": [
        {
          "output_type": "execute_result",
          "data": {
            "text/plain": [
              "   Unnamed: 0  Serial No.  GRE Score  TOEFL Score  University Rating  SOP  \\\n",
              "0           0           1        337          118                  4  4.5   \n",
              "1           1           2        324          107                  4  4.0   \n",
              "2           2           3        316          104                  3  3.0   \n",
              "3           3           4        322          110                  3  3.5   \n",
              "4           4           5        314          103                  2  2.0   \n",
              "5           5           6        330          115                  5  4.5   \n",
              "6           6           7        321          109                  3  3.0   \n",
              "7           7           8        308          101                  2  3.0   \n",
              "8           8           9        302          102                  1  2.0   \n",
              "9           9          10        323          108                  3  3.5   \n",
              "\n",
              "   LOR   CGPA  Research  Chance of Admit   \n",
              "0   4.5  9.65         1               1.0  \n",
              "1   4.5  8.87         1               1.0  \n",
              "2   3.5  8.00         1               1.0  \n",
              "3   2.5  8.67         1               1.0  \n",
              "4   3.0  8.21         0               0.0  \n",
              "5   3.0  9.34         1               1.0  \n",
              "6   4.0  8.20         1               1.0  \n",
              "7   4.0  7.90         0               0.0  \n",
              "8   1.5  8.00         0               0.0  \n",
              "9   3.0  8.60         0               0.0  "
            ],
            "text/html": [
              "\n",
              "  <div id=\"df-26f966c2-605e-4209-9ae3-78543b3c452a\">\n",
              "    <div class=\"colab-df-container\">\n",
              "      <div>\n",
              "<style scoped>\n",
              "    .dataframe tbody tr th:only-of-type {\n",
              "        vertical-align: middle;\n",
              "    }\n",
              "\n",
              "    .dataframe tbody tr th {\n",
              "        vertical-align: top;\n",
              "    }\n",
              "\n",
              "    .dataframe thead th {\n",
              "        text-align: right;\n",
              "    }\n",
              "</style>\n",
              "<table border=\"1\" class=\"dataframe\">\n",
              "  <thead>\n",
              "    <tr style=\"text-align: right;\">\n",
              "      <th></th>\n",
              "      <th>Unnamed: 0</th>\n",
              "      <th>Serial No.</th>\n",
              "      <th>GRE Score</th>\n",
              "      <th>TOEFL Score</th>\n",
              "      <th>University Rating</th>\n",
              "      <th>SOP</th>\n",
              "      <th>LOR</th>\n",
              "      <th>CGPA</th>\n",
              "      <th>Research</th>\n",
              "      <th>Chance of Admit</th>\n",
              "    </tr>\n",
              "  </thead>\n",
              "  <tbody>\n",
              "    <tr>\n",
              "      <th>0</th>\n",
              "      <td>0</td>\n",
              "      <td>1</td>\n",
              "      <td>337</td>\n",
              "      <td>118</td>\n",
              "      <td>4</td>\n",
              "      <td>4.5</td>\n",
              "      <td>4.5</td>\n",
              "      <td>9.65</td>\n",
              "      <td>1</td>\n",
              "      <td>1.0</td>\n",
              "    </tr>\n",
              "    <tr>\n",
              "      <th>1</th>\n",
              "      <td>1</td>\n",
              "      <td>2</td>\n",
              "      <td>324</td>\n",
              "      <td>107</td>\n",
              "      <td>4</td>\n",
              "      <td>4.0</td>\n",
              "      <td>4.5</td>\n",
              "      <td>8.87</td>\n",
              "      <td>1</td>\n",
              "      <td>1.0</td>\n",
              "    </tr>\n",
              "    <tr>\n",
              "      <th>2</th>\n",
              "      <td>2</td>\n",
              "      <td>3</td>\n",
              "      <td>316</td>\n",
              "      <td>104</td>\n",
              "      <td>3</td>\n",
              "      <td>3.0</td>\n",
              "      <td>3.5</td>\n",
              "      <td>8.00</td>\n",
              "      <td>1</td>\n",
              "      <td>1.0</td>\n",
              "    </tr>\n",
              "    <tr>\n",
              "      <th>3</th>\n",
              "      <td>3</td>\n",
              "      <td>4</td>\n",
              "      <td>322</td>\n",
              "      <td>110</td>\n",
              "      <td>3</td>\n",
              "      <td>3.5</td>\n",
              "      <td>2.5</td>\n",
              "      <td>8.67</td>\n",
              "      <td>1</td>\n",
              "      <td>1.0</td>\n",
              "    </tr>\n",
              "    <tr>\n",
              "      <th>4</th>\n",
              "      <td>4</td>\n",
              "      <td>5</td>\n",
              "      <td>314</td>\n",
              "      <td>103</td>\n",
              "      <td>2</td>\n",
              "      <td>2.0</td>\n",
              "      <td>3.0</td>\n",
              "      <td>8.21</td>\n",
              "      <td>0</td>\n",
              "      <td>0.0</td>\n",
              "    </tr>\n",
              "    <tr>\n",
              "      <th>5</th>\n",
              "      <td>5</td>\n",
              "      <td>6</td>\n",
              "      <td>330</td>\n",
              "      <td>115</td>\n",
              "      <td>5</td>\n",
              "      <td>4.5</td>\n",
              "      <td>3.0</td>\n",
              "      <td>9.34</td>\n",
              "      <td>1</td>\n",
              "      <td>1.0</td>\n",
              "    </tr>\n",
              "    <tr>\n",
              "      <th>6</th>\n",
              "      <td>6</td>\n",
              "      <td>7</td>\n",
              "      <td>321</td>\n",
              "      <td>109</td>\n",
              "      <td>3</td>\n",
              "      <td>3.0</td>\n",
              "      <td>4.0</td>\n",
              "      <td>8.20</td>\n",
              "      <td>1</td>\n",
              "      <td>1.0</td>\n",
              "    </tr>\n",
              "    <tr>\n",
              "      <th>7</th>\n",
              "      <td>7</td>\n",
              "      <td>8</td>\n",
              "      <td>308</td>\n",
              "      <td>101</td>\n",
              "      <td>2</td>\n",
              "      <td>3.0</td>\n",
              "      <td>4.0</td>\n",
              "      <td>7.90</td>\n",
              "      <td>0</td>\n",
              "      <td>0.0</td>\n",
              "    </tr>\n",
              "    <tr>\n",
              "      <th>8</th>\n",
              "      <td>8</td>\n",
              "      <td>9</td>\n",
              "      <td>302</td>\n",
              "      <td>102</td>\n",
              "      <td>1</td>\n",
              "      <td>2.0</td>\n",
              "      <td>1.5</td>\n",
              "      <td>8.00</td>\n",
              "      <td>0</td>\n",
              "      <td>0.0</td>\n",
              "    </tr>\n",
              "    <tr>\n",
              "      <th>9</th>\n",
              "      <td>9</td>\n",
              "      <td>10</td>\n",
              "      <td>323</td>\n",
              "      <td>108</td>\n",
              "      <td>3</td>\n",
              "      <td>3.5</td>\n",
              "      <td>3.0</td>\n",
              "      <td>8.60</td>\n",
              "      <td>0</td>\n",
              "      <td>0.0</td>\n",
              "    </tr>\n",
              "  </tbody>\n",
              "</table>\n",
              "</div>\n",
              "      <button class=\"colab-df-convert\" onclick=\"convertToInteractive('df-26f966c2-605e-4209-9ae3-78543b3c452a')\"\n",
              "              title=\"Convert this dataframe to an interactive table.\"\n",
              "              style=\"display:none;\">\n",
              "        \n",
              "  <svg xmlns=\"http://www.w3.org/2000/svg\" height=\"24px\"viewBox=\"0 0 24 24\"\n",
              "       width=\"24px\">\n",
              "    <path d=\"M0 0h24v24H0V0z\" fill=\"none\"/>\n",
              "    <path d=\"M18.56 5.44l.94 2.06.94-2.06 2.06-.94-2.06-.94-.94-2.06-.94 2.06-2.06.94zm-11 1L8.5 8.5l.94-2.06 2.06-.94-2.06-.94L8.5 2.5l-.94 2.06-2.06.94zm10 10l.94 2.06.94-2.06 2.06-.94-2.06-.94-.94-2.06-.94 2.06-2.06.94z\"/><path d=\"M17.41 7.96l-1.37-1.37c-.4-.4-.92-.59-1.43-.59-.52 0-1.04.2-1.43.59L10.3 9.45l-7.72 7.72c-.78.78-.78 2.05 0 2.83L4 21.41c.39.39.9.59 1.41.59.51 0 1.02-.2 1.41-.59l7.78-7.78 2.81-2.81c.8-.78.8-2.07 0-2.86zM5.41 20L4 18.59l7.72-7.72 1.47 1.35L5.41 20z\"/>\n",
              "  </svg>\n",
              "      </button>\n",
              "      \n",
              "  <style>\n",
              "    .colab-df-container {\n",
              "      display:flex;\n",
              "      flex-wrap:wrap;\n",
              "      gap: 12px;\n",
              "    }\n",
              "\n",
              "    .colab-df-convert {\n",
              "      background-color: #E8F0FE;\n",
              "      border: none;\n",
              "      border-radius: 50%;\n",
              "      cursor: pointer;\n",
              "      display: none;\n",
              "      fill: #1967D2;\n",
              "      height: 32px;\n",
              "      padding: 0 0 0 0;\n",
              "      width: 32px;\n",
              "    }\n",
              "\n",
              "    .colab-df-convert:hover {\n",
              "      background-color: #E2EBFA;\n",
              "      box-shadow: 0px 1px 2px rgba(60, 64, 67, 0.3), 0px 1px 3px 1px rgba(60, 64, 67, 0.15);\n",
              "      fill: #174EA6;\n",
              "    }\n",
              "\n",
              "    [theme=dark] .colab-df-convert {\n",
              "      background-color: #3B4455;\n",
              "      fill: #D2E3FC;\n",
              "    }\n",
              "\n",
              "    [theme=dark] .colab-df-convert:hover {\n",
              "      background-color: #434B5C;\n",
              "      box-shadow: 0px 1px 3px 1px rgba(0, 0, 0, 0.15);\n",
              "      filter: drop-shadow(0px 1px 2px rgba(0, 0, 0, 0.3));\n",
              "      fill: #FFFFFF;\n",
              "    }\n",
              "  </style>\n",
              "\n",
              "      <script>\n",
              "        const buttonEl =\n",
              "          document.querySelector('#df-26f966c2-605e-4209-9ae3-78543b3c452a button.colab-df-convert');\n",
              "        buttonEl.style.display =\n",
              "          google.colab.kernel.accessAllowed ? 'block' : 'none';\n",
              "\n",
              "        async function convertToInteractive(key) {\n",
              "          const element = document.querySelector('#df-26f966c2-605e-4209-9ae3-78543b3c452a');\n",
              "          const dataTable =\n",
              "            await google.colab.kernel.invokeFunction('convertToInteractive',\n",
              "                                                     [key], {});\n",
              "          if (!dataTable) return;\n",
              "\n",
              "          const docLinkHtml = 'Like what you see? Visit the ' +\n",
              "            '<a target=\"_blank\" href=https://colab.research.google.com/notebooks/data_table.ipynb>data table notebook</a>'\n",
              "            + ' to learn more about interactive tables.';\n",
              "          element.innerHTML = '';\n",
              "          dataTable['output_type'] = 'display_data';\n",
              "          await google.colab.output.renderOutput(dataTable, element);\n",
              "          const docLink = document.createElement('div');\n",
              "          docLink.innerHTML = docLinkHtml;\n",
              "          element.appendChild(docLink);\n",
              "        }\n",
              "      </script>\n",
              "    </div>\n",
              "  </div>\n",
              "  "
            ]
          },
          "metadata": {},
          "execution_count": 2
        }
      ]
    },
    {
      "cell_type": "code",
      "source": [
        "# dropping unwanted columns\n",
        "X = np.array(student_df.iloc[:,2:-1])\n",
        "y = np.array(student_df.iloc[:,-1])\n",
        "\n",
        "# get list of features\n",
        "\n",
        "features = list(student_df.iloc[:,2:])\n"
      ],
      "metadata": {
        "id": "9Fiwh05Z3dOW"
      },
      "execution_count": 3,
      "outputs": []
    },
    {
      "cell_type": "markdown",
      "source": [
        "## Split Dataset"
      ],
      "metadata": {
        "id": "VZ6KDe8H5trF"
      }
    },
    {
      "cell_type": "code",
      "source": [
        "from sklearn.model_selection import train_test_split\n",
        "\n",
        "X_train, X_test, y_train, y_test = train_test_split(X, y, test_size=0.20, random_state=42)\n",
        "\n",
        "#recreate test Dataframe \n",
        "X_df = pd.DataFrame(X_train, columns = features[:-1] )\n",
        "X_df['Chance of Admit'] = y_train\n",
        "X_y_df = X_df"
      ],
      "metadata": {
        "id": "blBJuykq5waQ"
      },
      "execution_count": 4,
      "outputs": []
    },
    {
      "cell_type": "markdown",
      "source": [
        "### Dataset features & dimensions"
      ],
      "metadata": {
        "id": "Xl-iR_PN7dU3"
      }
    },
    {
      "cell_type": "code",
      "source": [
        "print(\"First five elements in X_train are:\\n\", X_train[:5])\n",
        "print(\"Type of X_train:\",type(X_train))"
      ],
      "metadata": {
        "colab": {
          "base_uri": "https://localhost:8080/"
        },
        "id": "MHmSE_hj7I_2",
        "outputId": "dc015f51-b89d-4449-9da0-af1c4a7a78ff"
      },
      "execution_count": 5,
      "outputs": [
        {
          "output_type": "stream",
          "name": "stdout",
          "text": [
            "First five elements in X_train are:\n",
            " [[322.   110.     3.     3.5    2.5    8.67   1.  ]\n",
            " [318.   110.     3.     4.     3.     8.8    0.  ]\n",
            " [340.   120.     5.     4.5    4.5    9.91   1.  ]\n",
            " [320.   104.     3.     3.     2.5    8.57   1.  ]\n",
            " [315.   100.     1.     2.     2.5    7.95   0.  ]]\n",
            "Type of X_train: <class 'numpy.ndarray'>\n"
          ]
        }
      ]
    },
    {
      "cell_type": "code",
      "source": [
        "print(\"First five elements in y_train are:\\n\", y_train[:5])\n",
        "print(\"Type of y_train:\",type(y_train))"
      ],
      "metadata": {
        "colab": {
          "base_uri": "https://localhost:8080/"
        },
        "id": "VV0Pe_yw7Pek",
        "outputId": "94990538-c604-4417-937a-48d09917d9c6"
      },
      "execution_count": 6,
      "outputs": [
        {
          "output_type": "stream",
          "name": "stdout",
          "text": [
            "First five elements in y_train are:\n",
            " [1. 0. 1. 1. 0.]\n",
            "Type of y_train: <class 'numpy.ndarray'>\n"
          ]
        }
      ]
    },
    {
      "cell_type": "code",
      "source": [
        "print ('The shape of X_train is: ' + str(X_train.shape))\n",
        "print ('The shape of y_train is: ' + str(y_train.shape))\n",
        "print ('We have m = %d training examples' % (len(y_train)))"
      ],
      "metadata": {
        "colab": {
          "base_uri": "https://localhost:8080/"
        },
        "id": "KHLoEgOt7V5m",
        "outputId": "700c296d-70cc-4654-f060-174d538643f8"
      },
      "execution_count": 7,
      "outputs": [
        {
          "output_type": "stream",
          "name": "stdout",
          "text": [
            "The shape of X_train is: (320, 7)\n",
            "The shape of y_train is: (320,)\n",
            "We have m = 320 training examples\n"
          ]
        }
      ]
    },
    {
      "cell_type": "code",
      "source": [
        "X_y_df.info()"
      ],
      "metadata": {
        "colab": {
          "base_uri": "https://localhost:8080/"
        },
        "id": "ZO8ueAdQQxWA",
        "outputId": "9be489e2-5357-43f6-f46e-39f04855d5ef"
      },
      "execution_count": 8,
      "outputs": [
        {
          "output_type": "stream",
          "name": "stdout",
          "text": [
            "<class 'pandas.core.frame.DataFrame'>\n",
            "RangeIndex: 320 entries, 0 to 319\n",
            "Data columns (total 8 columns):\n",
            " #   Column             Non-Null Count  Dtype  \n",
            "---  ------             --------------  -----  \n",
            " 0   GRE Score          320 non-null    float64\n",
            " 1   TOEFL Score        320 non-null    float64\n",
            " 2   University Rating  320 non-null    float64\n",
            " 3   SOP                320 non-null    float64\n",
            " 4   LOR                320 non-null    float64\n",
            " 5   CGPA               320 non-null    float64\n",
            " 6   Research           320 non-null    float64\n",
            " 7   Chance of Admit    320 non-null    float64\n",
            "dtypes: float64(8)\n",
            "memory usage: 20.1 KB\n"
          ]
        }
      ]
    },
    {
      "cell_type": "markdown",
      "source": [
        "## Feature Selection "
      ],
      "metadata": {
        "id": "K730jmaG8YPR"
      }
    },
    {
      "cell_type": "code",
      "source": [
        "# Correlation between admission and other features\n",
        "X_y_df.corr()['Chance of Admit']"
      ],
      "metadata": {
        "colab": {
          "base_uri": "https://localhost:8080/"
        },
        "id": "dj6Fk6r87agW",
        "outputId": "1064cc4b-ba69-426f-e22a-11379bad60ed"
      },
      "execution_count": 9,
      "outputs": [
        {
          "output_type": "execute_result",
          "data": {
            "text/plain": [
              "GRE Score            0.662243\n",
              "TOEFL Score          0.607764\n",
              "University Rating    0.562430\n",
              "SOP                  0.501113\n",
              "LOR                  0.474062\n",
              "CGPA                 0.658299\n",
              "Research             0.478715\n",
              "Chance of Admit      1.000000\n",
              "Name: Chance of Admit, dtype: float64"
            ]
          },
          "metadata": {},
          "execution_count": 9
        }
      ]
    },
    {
      "cell_type": "markdown",
      "source": [
        "There is a high correlation between Chance of admission and [GRE Score, CGPA,  TOEFL Score, University Rating, SOP, LOR & Research] in order of left to right.\n",
        "\n"
      ],
      "metadata": {
        "id": "G3dAGzdu_ZGb"
      }
    },
    {
      "cell_type": "markdown",
      "source": [
        "### Visual Description of Data"
      ],
      "metadata": {
        "id": "9YUn1MIfTbeL"
      }
    },
    {
      "cell_type": "code",
      "source": [
        "def plot_data(X, y, pos_label=\"y=1\", neg_label=\"y=0\"):\n",
        "    positive = y == 1\n",
        "    negative = y == 0\n",
        "    \n",
        "    # Plot examples\n",
        "    plt.plot(X[positive, 0], X[positive, 1], 'k+', label=pos_label)\n",
        "    plt.plot(X[negative, 0], X[negative, 1], 'yo', label=neg_label)\n"
      ],
      "metadata": {
        "id": "S3OxfbyBBuqk"
      },
      "execution_count": 10,
      "outputs": []
    },
    {
      "cell_type": "code",
      "source": [
        "plot_data(X_train[:,:2], y_train, pos_label=\"y=1\", neg_label=\"y=0\")    \n",
        "plt.xlabel('GRE Score', fontsize=12)\n",
        "plt.ylabel('TOEFL Score', fontsize=12)\n",
        "plt.legend(loc=\"upper right\")\n",
        "plt.title('Scatter plot of Features')\n",
        "plt.show()\n",
        "\n",
        "plot_data(X_train[:,2:4], y_train, pos_label=\"y=1\", neg_label=\"y=0\")    \n",
        "plt.xlabel('SOP', fontsize=12)\n",
        "plt.ylabel('University Rating', fontsize=12)\n",
        "plt.show()\n",
        "\n",
        "plot_data(X_train[:,4:6], y_train, pos_label=\"y=1\", neg_label=\"y=0\")    \n",
        "plt.xlabel('LOR', fontsize=12)\n",
        "plt.ylabel('CGPA', fontsize=12)\n",
        "plt.legend(loc=\"upper right\")\n",
        "plt.show()"
      ],
      "metadata": {
        "colab": {
          "base_uri": "https://localhost:8080/",
          "height": 828
        },
        "id": "OqTXQvtZC-eV",
        "outputId": "4cd8d402-313c-417f-a562-d43090c7cad8"
      },
      "execution_count": 11,
      "outputs": [
        {
          "output_type": "display_data",
          "data": {
            "text/plain": [
              "<Figure size 432x288 with 1 Axes>"
            ],
            "image/png": "[encoded data removed]"
          },
          "metadata": {
            "needs_background": "light"
          }
        },
        {
          "output_type": "display_data",
          "data": {
            "text/plain": [
              "<Figure size 432x288 with 1 Axes>"
            ],
            "image/png": "[encoded data removed]"
          },
          "metadata": {
            "needs_background": "light"
          }
        },
        {
          "output_type": "display_data",
          "data": {
            "text/plain": [
              "<Figure size 432x288 with 1 Axes>"
            ],
            "image/png": "[encoded data removed]"
          },
          "metadata": {
            "needs_background": "light"
          }
        }
      ]
    },
    {
      "cell_type": "markdown",
      "source": [
        "### Normalization of Data\n",
        "\n",
        "To ensure all features have same range or similar range."
      ],
      "metadata": {
        "id": "xkTXk2BxVMNe"
      }
    },
    {
      "cell_type": "code",
      "source": [
        "#import Scaler\n",
        "#using pipeline on a training set so as to be able to later re-apply the same transformation on the testing set.\n",
        "\n",
        "from sklearn.pipeline import make_pipeline\n",
        "\n",
        "#using minmax to ensure scaling to the same unit size\n",
        "from sklearn.preprocessing import MinMaxScaler, StandardScaler\n",
        "\n",
        "from sklearn.decomposition import IncrementalPCA\n",
        "\n",
        "# add multiple models per need\n",
        "from sklearn.linear_model import LogisticRegression\n",
        "\n",
        "from sklearn.metrics import accuracy_score, precision_score, recall_score, roc_auc_score,roc_curve\n",
        "\n"
      ],
      "metadata": {
        "id": "GzhFNlpaY38H"
      },
      "execution_count": 12,
      "outputs": []
    },
    {
      "cell_type": "markdown",
      "source": [
        "#### Defining a Pipeline Logistic Model for use later\n",
        ">Step 1 :  Normalization (StandardScaler/MinMaxScaler)  \n",
        ">Step 2 : Applying Logistic Regression\n"
      ],
      "metadata": {
        "id": "Zwa_gJlDyy1r"
      }
    },
    {
      "cell_type": "code",
      "source": [
        "class create_logistic_model:\n",
        "  def __init__(self, X_train=X_train, y_train=y_train,X_test=X_test,y_test=y_test, normalizer=StandardScaler(),alg=LogisticRegression()):\n",
        "    self.pipe = make_pipeline(normalizer, alg)\n",
        "    self.pipe.fit(X_train, y_train)\n",
        "    '''Implement linear supervised machine learning framework. \n",
        "    X: Training features, y=training label, \n",
        "    norm= type of normalizer function as used scikit, \n",
        "    alg: type of supervised learning algorithm as used in scikit'''\n",
        "    self.X_train, self.y_train, self.X_test, self.y_test, self.normalizer, self.alg = X_train, y_train,X_test, y_test, normalizer,alg\n",
        "\n",
        "\n",
        "  @property\n",
        "  def coeff_(self):\n",
        "    '''Return model coefficients'''\n",
        "    return self.pipe.named_steps.logisticregression.coef_\n",
        "\n",
        "\n",
        "  @property\n",
        "  def intercept_(self):\n",
        "    '''Return model intercept'''\n",
        "    return self.pipe.named_steps.logisticregression.intercept_\n",
        "\n",
        "  # predicting on training dataset\n",
        "  @property\n",
        "  def y_train_predict(self):\n",
        "    '''Predict from the training dataset'''\n",
        "    return self.pipe.predict(X_train)\n",
        "\n",
        "  @property\n",
        "  def y_test_predict(self):\n",
        "    '''Predict class from test dataset'''\n",
        "    return self.pipe.predict(X_test)\n",
        "\n",
        "  \n",
        "  # evaluating the model on training dataset\n",
        "\n",
        "  @property\n",
        "  def accuracy_train(self):\n",
        "    return accuracy_score(self.y_train, self.y_train_predict)\n",
        "  \n",
        "  @property\n",
        "  def precision_train(self): \n",
        "    return precision_score(self.y_train, self.y_train_predict)\n",
        "\n",
        "  @property\n",
        "  def recall_train(self):\n",
        "    return recall_score(self.y_train, self.y_train_predict)\n",
        "\n",
        "\n",
        "\n",
        "  # evaluating the model on test dataset\n",
        "\n",
        "  @property\n",
        "  def accuracy_test(self):\n",
        "    return accuracy_score(self.y_test, self.y_test_predict)\n",
        "  \n",
        "  @property\n",
        "  def precision_test(self): \n",
        "    return precision_score(self.y_test, self.y_test_predict)\n",
        "\n",
        "  @property\n",
        "  def recall_test(self):\n",
        "    return recall_score(self.y_test, self.y_test_predict)\n",
        "\n",
        "  @property\n",
        "  def roc_auc (self): #ROC AUC Score\n",
        "    return roc_auc_score(self.y_test,self.pipe.predict_proba(self.X_test)[:,1])\n",
        "\n",
        "  @property\n",
        "  def roc_curve (self):\n",
        "    return roc_curve(self.y_test, self.pipe.predict_proba(self.X_test)[:,1])\n",
        "\n",
        "\n",
        "  @property\n",
        "  def score(self):\n",
        "    print(\"The normalizer is {}\".format(self.normalizer))\n",
        "    print(\"\\n\")\n",
        "\n",
        "    print(\"The model performance for the training set\")\n",
        "    print(\"-------------------------------------------\")\n",
        "    print(\"Accuracy Score of training set is {}\".format(self.accuracy_train))\n",
        "    print(\"Precision of training set is {}\".format(self.precision_train))\n",
        "    print(\"Recall score of training set is {}\".format(self.recall_train))\n",
        "    \n",
        "    print(\"The model performance for the test set\")\n",
        "    print(\"-------------------------------------------\")\n",
        "    print(\"Accuracy Score of test set is {}\".format(self.accuracy_test))\n",
        "    print(\"Precision of test set is {}\".format(self.precision_test))\n",
        "    print(\"Recall score of test set is {}\".format(self.recall_test))\n",
        "    print(\"ROC AUC score is {}\".format(self.roc_auc))\n",
        "    print(\"\\n\")\n",
        "\n",
        "\n",
        "\n"
      ],
      "metadata": {
        "id": "wV1RwyHhjg6l"
      },
      "execution_count": 13,
      "outputs": []
    },
    {
      "cell_type": "markdown",
      "source": [
        "#### Defining a Pipeline for Logistic Regression using Principal Component Analysis\n",
        ">Step 1 :  Normalization (StandardScaler/MinMaxScaler)  \n",
        ">Step 2 :  Principal Component Analysis to reduce dimensionality  \n",
        ">Step 3 :  Applying Logistic Regression"
      ],
      "metadata": {
        "id": "9F-B7bKPzYgI"
      }
    },
    {
      "cell_type": "code",
      "source": [
        "# Principal Component Analysis (PCA) added to pipeline\n",
        "class create_pca_logistic_model:\n",
        "  def __init__(self, X_train=X_train, y_train=y_train,X_test=X_test,y_test=y_test, normalizer=StandardScaler(),pca =IncrementalPCA(n_components = 2) ,alg=LogisticRegression()):\n",
        "    self.pipe = make_pipeline(normalizer, pca, alg)\n",
        "    self.pipe.fit(X_train, y_train)\n",
        "    '''Implement linear supervised machine learning framework with PCA capability. \n",
        "    X: Training features, y=training label, \n",
        "    norm= type of normalizer function as used scikit, pca,\n",
        "    alg: type of supervised learning algorithm as used in scikit'''\n",
        "    self.X_train, self.y_train, self.X_test, self.y_test, self.normalizer,self.pca, self.alg = X_train, y_train,X_test, y_test, normalizer,pca ,alg\n",
        "\n",
        "  @property\n",
        "  def X_train_pca (self):\n",
        "    '''Return the transformed training data set'''\n",
        "    return self.pipe.named_steps.incrementalpca.fit_transform(X_train)\n",
        "\n",
        "\n",
        "  @property\n",
        "  def coeff_(self):\n",
        "    '''Return model coefficients'''\n",
        "    return self.pipe.named_steps.logisticregression.coef_\n",
        "\n",
        "\n",
        "  @property\n",
        "  def intercept_(self):\n",
        "    '''Return model intercept'''\n",
        "    return self.pipe.named_steps.logisticregression.intercept_\n",
        "\n",
        "  # predicting on training dataset\n",
        "  @property\n",
        "  def y_train_predict(self):\n",
        "    '''Predict from the training dataset'''\n",
        "    return self.pipe.predict(X_train)\n",
        "\n",
        "  @property\n",
        "  def y_test_predict(self):\n",
        "    '''Predict class from test dataset'''\n",
        "    return self.pipe.predict(X_test)\n",
        "\n",
        "  \n",
        "  # evaluating the model on training dataset\n",
        "\n",
        "  @property\n",
        "  def accuracy_train(self):\n",
        "    return accuracy_score(self.y_train, self.y_train_predict)\n",
        "  \n",
        "  @property\n",
        "  def precision_train(self): \n",
        "    return precision_score(self.y_train, self.y_train_predict)\n",
        "\n",
        "  @property\n",
        "  def recall_train(self):\n",
        "    return recall_score(self.y_train, self.y_train_predict)\n",
        "\n",
        "\n",
        "\n",
        "  # evaluating the model on test dataset\n",
        "\n",
        "  @property\n",
        "  def accuracy_test(self):\n",
        "    return accuracy_score(self.y_test, self.y_test_predict)\n",
        "  \n",
        "  @property\n",
        "  def precision_test(self): \n",
        "    return precision_score(self.y_test, self.y_test_predict)\n",
        "\n",
        "  @property\n",
        "  def recall_test(self):\n",
        "    return recall_score(self.y_test, self.y_test_predict)\n",
        "\n",
        "  @property\n",
        "  def roc_auc (self): #ROC AUC Score\n",
        "    return roc_auc_score(self.y_test,self.pipe.predict_proba(self.X_test)[:,1])\n",
        "\n",
        "  @property\n",
        "  def roc_curve (self):\n",
        "    return roc_curve(self.y_test, self.pipe.predict_proba(self.X_test)[:,1])\n",
        "\n",
        "\n",
        "  @property\n",
        "  def score(self):\n",
        "    print(\"The normalizer is {}\".format(self.normalizer))\n",
        "    print(\"\\n\")\n",
        "\n",
        "    print(\"The model performance for the training set\")\n",
        "    print(\"-------------------------------------------\")\n",
        "    print(\"Accuracy Score of training set is {}\".format(self.accuracy_train))\n",
        "    print(\"Precision of training set is {}\".format(self.precision_train))\n",
        "    print(\"Recall score of training set is {}\".format(self.recall_train))\n",
        "    \n",
        "    print(\"The model performance for the test set\")\n",
        "    print(\"-------------------------------------------\")\n",
        "    print(\"Accuracy Score of test set is {}\".format(self.accuracy_test))\n",
        "    print(\"Precision of test set is {}\".format(self.precision_test))\n",
        "    print(\"Recall score of test set is {}\".format(self.recall_test))\n",
        "    print(\"ROC AUC score is {}\".format(self.roc_auc))\n",
        "    print(\"\\n\")\n",
        "\n",
        "\n",
        "\n"
      ],
      "metadata": {
        "id": "7YKWGtT50204"
      },
      "execution_count": 14,
      "outputs": []
    },
    {
      "cell_type": "markdown",
      "source": [
        "### Load Models"
      ],
      "metadata": {
        "id": "Qux8HXHuoZUA"
      }
    },
    {
      "cell_type": "code",
      "source": [
        "#Model1 - \n",
        "NLRS = create_logistic_model() # #Normalized-Logistic Regression-StandardScaler\n",
        "\n",
        "#Model2\n",
        "NLRM = create_logistic_model(normalizer=MinMaxScaler()) #Normalized-Logistic Regression-MinMaxScaler\n",
        "\n",
        "#Model3\n",
        "NPLRM = create_pca_logistic_model(normalizer=MinMaxScaler(),pca=IncrementalPCA(n_components = 4))"
      ],
      "metadata": {
        "id": "Tl5tJasdm0nX"
      },
      "execution_count": 15,
      "outputs": []
    },
    {
      "cell_type": "markdown",
      "source": [
        "## Data Results & Discussions\n",
        "\n"
      ],
      "metadata": {
        "id": "tEwn8oSMVq_A"
      }
    },
    {
      "cell_type": "markdown",
      "source": [
        "#### Majority Class Accuracy \n",
        "> What is the accuracy when you predict the majority class for all observations ? "
      ],
      "metadata": {
        "id": "vntdWxvEOVXb"
      }
    },
    {
      "cell_type": "code",
      "source": [
        "# Model Accuracy\n",
        "# The % Accuracy of predicting the majority class for training set\n",
        "print(\"Training Set\")\n",
        "print(\"-----------------------------------------------------\")\n",
        "print(\"Total Number of students is {}\".format(len(y_train)))\n",
        "print(\"Number of majority class is {}\".format(len(y_train[y_train==1])))\n",
        "print(\"Percent of majority class is {}\".format(len(y_train[y_train==1])/len(y_train)))\n",
        "\n",
        "print(\"\\n\")\n",
        "print(\"Test Set\")\n",
        "print(\"-----------------------------------------------------\")\n",
        "print(\"Total Number of students is {}\".format(len(y_test)))\n",
        "print(\"Number of majority class is {}\".format(len(y_test[y_test==1])))\n",
        "print(\"Percent of majority class is {}\".format(len(y_test[y_test==1])/len(y_test)))"
      ],
      "metadata": {
        "colab": {
          "base_uri": "https://localhost:8080/"
        },
        "id": "g1BT0ItZtIdB",
        "outputId": "6cd4723c-e4b4-4b33-a562-fcddfcc74a6a"
      },
      "execution_count": 16,
      "outputs": [
        {
          "output_type": "stream",
          "name": "stdout",
          "text": [
            "Training Set\n",
            "-----------------------------------------------------\n",
            "Total Number of students is 320\n",
            "Number of majority class is 199\n",
            "Percent of majority class is 0.621875\n",
            "\n",
            "\n",
            "Test Set\n",
            "-----------------------------------------------------\n",
            "Total Number of students is 80\n",
            "Number of majority class is 48\n",
            "Percent of majority class is 0.6\n"
          ]
        }
      ]
    },
    {
      "cell_type": "markdown",
      "source": [
        "In the training set, predicting the majority class will be correct **62 %** of the time and **60%** correct in the Test dataset. \n",
        "\n",
        "This helps to give context to the performance of our model and to know whether the model is just predicting the majority class. Also, the difference between the model performance and the accuracy of predicting the majority class is a good indicator of the performance of any model. (**The higher the difference the better the model performance**)"
      ],
      "metadata": {
        "id": "Dpwgp3mbOuQJ"
      }
    },
    {
      "cell_type": "markdown",
      "source": [
        "#### Scoring Our Models \n",
        "\n",
        "> **NLRM** :Normalized - Logistic Regression - MinMaxScaler (Model 1)  \n",
        "> **NLRS** :Normalized - Logistic regression - StandardScaler (Model 2)   \n",
        "> **NPLRM** : Normalized - PCA - Logistic Regression - MinMaxScaler (Model 3)\n"
      ],
      "metadata": {
        "id": "Vn2q3PbKP0tw"
      }
    },
    {
      "cell_type": "code",
      "source": [
        "#Model1\n",
        "NLRM.score\n",
        "\n",
        "#Model2\n",
        "NLRS.score\n",
        "\n",
        "#Model3\n",
        "NPLRM.score\n"
      ],
      "metadata": {
        "colab": {
          "base_uri": "https://localhost:8080/"
        },
        "id": "16bDeR04xrl4",
        "outputId": "a1f97ea4-ab9a-41ba-e338-6bafa4e3635e"
      },
      "execution_count": 17,
      "outputs": [
        {
          "output_type": "stream",
          "name": "stdout",
          "text": [
            "The normalizer is MinMaxScaler()\n",
            "\n",
            "\n",
            "The model performance for the training set\n",
            "-------------------------------------------\n",
            "Accuracy Score of training set is 0.821875\n",
            "Precision of training set is 0.8446601941747572\n",
            "Recall score of training set is 0.8743718592964824\n",
            "The model performance for the test set\n",
            "-------------------------------------------\n",
            "Accuracy Score of test set is 0.9\n",
            "Precision of test set is 0.9166666666666666\n",
            "Recall score of test set is 0.9166666666666666\n",
            "ROC AUC score is 0.9563802083333333\n",
            "\n",
            "\n",
            "The normalizer is StandardScaler()\n",
            "\n",
            "\n",
            "The model performance for the training set\n",
            "-------------------------------------------\n",
            "Accuracy Score of training set is 0.690625\n",
            "Precision of training set is 0.9901960784313726\n",
            "Recall score of training set is 0.507537688442211\n",
            "The model performance for the test set\n",
            "-------------------------------------------\n",
            "Accuracy Score of test set is 0.7625\n",
            "Precision of test set is 1.0\n",
            "Recall score of test set is 0.6041666666666666\n",
            "ROC AUC score is 0.96484375\n",
            "\n",
            "\n",
            "The normalizer is MinMaxScaler()\n",
            "\n",
            "\n",
            "The model performance for the training set\n",
            "-------------------------------------------\n",
            "Accuracy Score of training set is 0.821875\n",
            "Precision of training set is 0.8446601941747572\n",
            "Recall score of training set is 0.8743718592964824\n",
            "The model performance for the test set\n",
            "-------------------------------------------\n",
            "Accuracy Score of test set is 0.8625\n",
            "Precision of test set is 0.8775510204081632\n",
            "Recall score of test set is 0.8958333333333334\n",
            "ROC AUC score is 0.953125\n",
            "\n",
            "\n"
          ]
        }
      ]
    },
    {
      "cell_type": "markdown",
      "source": [
        "#### Model Evaluation\n",
        "\n",
        "*   Accuracy : **NLRM** > NPLRM > *NLRS*  \n",
        "*   Precision: **NLRS** > NLRM  > *NPLRM*  \n",
        "*   Recall   : **NLRM** > NPLRM > *NLRS*  \n",
        "*   ROC AUC  : **NLRS** > NLRM  > *NPLRM*   "
      ],
      "metadata": {
        "id": "WWzwozLYQ-ie"
      }
    },
    {
      "cell_type": "markdown",
      "source": [
        "#### ROC AUC Curve Comparison "
      ],
      "metadata": {
        "id": "4iYQ27C9XA-l"
      }
    },
    {
      "cell_type": "code",
      "source": [
        "# calculate scores\n",
        "NLRS_auc,NLRS_roc_curve = NLRS.roc_auc,NLRS.roc_curve\n",
        "NLRM_auc, NLRM_roc_curve = NLRM.roc_auc,NLRM.roc_curve\n",
        "NPLRM_auc, NPLRM_roc_curve = NPLRM.roc_auc, NPLRM.roc_curve\n",
        "\n",
        "# summarize scores\n",
        "print('Standard: ROC AUC=%.3f' % (NLRS_auc))\n",
        "print('MinMax: ROC AUC=%.3f' % (NLRM_auc))\n",
        "print('PCA (n=4): ROC AUC=%.3f' % (NPLRM_auc))\n",
        "# calculate roc curves\n",
        "ns_fpr, ns_tpr, _ = NLRS_roc_curve\n",
        "lr_fpr, lr_tpr, _ = NLRM_roc_curve\n",
        "pr_fpr, pr_tpr, _ = NPLRM_roc_curve\n",
        "# plot the roc curve for the model\n",
        "plt.figure(figsize = (10, 6))\n",
        "plt.plot(ns_fpr, ns_tpr, linestyle='--', label='StandardScaler')\n",
        "plt.plot(lr_fpr, lr_tpr, marker='.', label='MinMAxScaler')\n",
        "plt.plot(pr_fpr, pr_tpr, marker='+',label='PCA(n=4)' )\n",
        "# axis labels\n",
        "plt.xlabel('False Positive Rate')\n",
        "plt.ylabel('True Positive Rate')\n",
        "# show the legend\n",
        "plt.legend()\n",
        "# show the plot\n",
        "plt.show()"
      ],
      "metadata": {
        "colab": {
          "base_uri": "https://localhost:8080/",
          "height": 443
        },
        "id": "GTX8-43U5HNK",
        "outputId": "a0e382f4-9a76-40bd-ff53-ca5788231151"
      },
      "execution_count": 18,
      "outputs": [
        {
          "output_type": "stream",
          "name": "stdout",
          "text": [
            "Standard: ROC AUC=0.965\n",
            "MinMax: ROC AUC=0.956\n",
            "PCA (n=4): ROC AUC=0.953\n"
          ]
        },
        {
          "output_type": "display_data",
          "data": {
            "text/plain": [
              "<Figure size 720x432 with 1 Axes>"
            ],
            "image/png": "[encoded data removed]"
          },
          "metadata": {
            "needs_background": "light"
          }
        }
      ]
    },
    {
      "cell_type": "markdown",
      "source": [
        "##  Results & Discussions\n",
        "\n",
        "> All models perform better on the out of sample dataset or the test dataset. This indicates that the models generalize well and there are no hints of overfitting since model performance increase from training set to test set. \n",
        "\n",
        "> The MinMax scaled logistic regression performs better at predicting correctly and has a higher recall score. The Standard Scaler on the other hand, has high (perfect) recall score and a marginally higher ROC AUC. \n",
        "\n",
        "> All models perform better than just predicting the majority class (1 or Admit) for all observations.\n",
        "\n",
        "> PCA reduced model performed worse than the other MinMax model. This is likely because of the importance of all the feautures in admission decisions in the past. It is quick method to reduce dimensionality in data.\n",
        "\n",
        "> In all, Model 1 performed the best in Accuracy & Recall, 2nd best in Precision & ROC AUC. Model 1 is slected for future classification due to that.\n",
        "\n",
        "> MinMax works better than StandardScaler in this case because of the relative importance of all the features in admission decision. MinMax takes care this by scaling all observations between 0-1 for all features.\n",
        "\n"
      ],
      "metadata": {
        "id": "aYe1HAmqxUJI"
      }
    },
    {
      "cell_type": "code",
      "source": [],
      "metadata": {
        "id": "tyWYDyWVW7wC"
      },
      "execution_count": 18,
      "outputs": []
    }
  ]
}